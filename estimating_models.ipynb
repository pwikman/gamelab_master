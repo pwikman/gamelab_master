{
 "cells": [
  {
   "cell_type": "markdown",
   "metadata": {},
   "source": [
    "This document provides the EWA score calculations"
   ]
  },
  {
   "cell_type": "code",
   "execution_count": 22,
   "metadata": {},
   "outputs": [],
   "source": [
    "# Load data\n",
    "import pandas as pd\n",
    "import numpy as np\n",
    "from datetime import datetime\n",
    "import time\n",
    "pd.options.mode.chained_assignment = None  # default='warn'\n",
    "player_DF = pd.read_pickle('data_all_TSE')\n",
    "player_info = pd.read_pickle('info_all_TSE') "
   ]
  },
  {
   "cell_type": "code",
   "execution_count": 23,
   "metadata": {
    "scrolled": true
   },
   "outputs": [
    {
     "name": "stdout",
     "output_type": "stream",
     "text": [
      "  playerid round gameid    payoff globalid                strats  \\\n",
      "0       26     1      1  0.100000       15  [0.0, 0.0, 0.0, 1.0]   \n",
      "1       26     2      1  7.813333       15  [0.0, 0.5, 0.5, 0.0]   \n",
      "2       26     3      1  7.250000       15  [0.0, 0.0, 1.0, 0.0]   \n",
      "3       26     4      1  8.231944       15  [0.0, 0.5, 0.5, 0.0]   \n",
      "4       26     5      1  9.366667       15  [0.0, 0.0, 1.0, 0.0]   \n",
      "\n",
      "                   self_avg_s  \\\n",
      "0  [0.146, 0.306, 0.248, 0.3]   \n",
      "1     [0.13, 0.61, 0.26, 0.0]   \n",
      "2   [0.075, 0.35, 0.575, 0.0]   \n",
      "3    [0.18, 0.38, 0.42, 0.02]   \n",
      "4     [0.23, 0.3, 0.42, 0.05]   \n",
      "\n",
      "                                      opponent_avg_s  \\\n",
      "0  [0.15, 0.38722222222222225, 0.4461111111111111...   \n",
      "1  [0.16666666666666666, 0.39666666666666667, 0.3...   \n",
      "2  [0.225, 0.3333333333333333, 0.325, 0.116666666...   \n",
      "3  [0.3416666666666667, 0.35555555555555557, 0.30...   \n",
      "4  [0.13125, 0.33958333333333335, 0.5291666666666...   \n",
      "\n",
      "                    prev_self  \\\n",
      "0                         NaN   \n",
      "1  [0.146, 0.306, 0.248, 0.3]   \n",
      "2     [0.13, 0.61, 0.26, 0.0]   \n",
      "3   [0.075, 0.35, 0.575, 0.0]   \n",
      "4    [0.18, 0.38, 0.42, 0.02]   \n",
      "\n",
      "                                            prev_opp  session  \n",
      "0                                                NaN      0.0  \n",
      "1  [0.15, 0.38722222222222225, 0.4461111111111111...      0.0  \n",
      "2  [0.16666666666666666, 0.39666666666666667, 0.3...      0.0  \n",
      "3  [0.225, 0.3333333333333333, 0.325, 0.116666666...      0.0  \n",
      "4  [0.3416666666666667, 0.35555555555555557, 0.30...      0.0  \n",
      "  role                                         payoff_mat  \\\n",
      "0    0  [[10.0, 0.0, 11.0, 0.0], [12.0, 10.0, 5.0, 0.0...   \n",
      "1    0  [[10.0, 0.0, 11.0, 0.0], [12.0, 10.0, 5.0, 0.0...   \n",
      "2    0  [[10.0, 0.0, 11.0, 0.0], [12.0, 10.0, 5.0, 0.0...   \n",
      "3    1  [[10.0, 0.0, 11.0, 0.0], [12.0, 10.0, 5.0, 0.0...   \n",
      "4    0  [[10.0, 0.0, 11.0, 0.0], [12.0, 10.0, 5.0, 0.0...   \n",
      "\n",
      "                                      opp_payoff_mat n_strats  gameid  \\\n",
      "0  [[10.0, 0.0, 11.0, 0.0], [12.0, 10.0, 5.0, 0.0...        4     1.0   \n",
      "1  [[10.0, 0.0, 11.0, 0.0], [12.0, 10.0, 5.0, 0.0...        4     1.0   \n",
      "2  [[10.0, 0.0, 11.0, 0.0], [12.0, 10.0, 5.0, 0.0...        4     1.0   \n",
      "3  [[10.0, 0.0, 11.0, 0.0], [12.0, 10.0, 5.0, 0.0...        4     1.0   \n",
      "4  [[10.0, 0.0, 11.0, 0.0], [12.0, 10.0, 5.0, 0.0...        4     1.0   \n",
      "\n",
      "   playerid  session  \n",
      "0      26.0      0.0  \n",
      "1      19.0      0.0  \n",
      "2      14.0      0.0  \n",
      "3      30.0      0.0  \n",
      "4      27.0      0.0  \n"
     ]
    }
   ],
   "source": [
    "print(player_DF.head())\n",
    "print(player_info.head())"
   ]
  },
  {
   "cell_type": "code",
   "execution_count": 24,
   "metadata": {},
   "outputs": [],
   "source": [
    "# Calculates payoff given mixed strategy by the vector s, round t\n",
    "\n",
    "def calc_payoff(s_idx, t, player_info, player_DF):\n",
    "    nr = player_info.n_strats\n",
    "    self_s = np.zeros(nr)\n",
    "    self_s[s_idx] = 1\n",
    "    opp_s = np.array(player_DF['opponent_avg_s'][player_DF['round']==t].values[0])\n",
    "    mat = player_info['payoff_mat']\n",
    "    return np.dot(np.dot(self_s,mat),opp_s.T)"
   ]
  },
  {
   "cell_type": "code",
   "execution_count": 27,
   "metadata": {},
   "outputs": [],
   "source": [
    "# The attention function\n",
    "\n",
    "def delta(t, s_idx, player_info, player_DF):\n",
    "    val = player_DF.payoff[player_DF['round']==t].values\n",
    "    δ=0\n",
    "    if calc_payoff(s_idx,t, player_info, player_DF)>=float(val):\n",
    "        δ=1\n",
    "    return δ"
   ]
  },
  {
   "cell_type": "code",
   "execution_count": 28,
   "metadata": {},
   "outputs": [],
   "source": [
    "# The change-dectecting decay rate\n",
    "\n",
    "def phi_rate(t, player_info, player_DF):\n",
    "    S_t=0\n",
    "    for m in range(0,len(player_DF.opponent_avg_s.iloc[0])):\n",
    "        h_t = [sum(i) for i in zip(*player_DF.opponent_avg_s[player_DF['round']<=t])][m]/len(player_DF['round'][player_DF['round']<=t])\n",
    "        r_t=player_DF.opponent_avg_s[player_DF['round']==t].values[0][m]\n",
    "        S_t += (h_t-r_t)**2\n",
    "    return 1-S_t/2"
   ]
  },
  {
   "cell_type": "code",
   "execution_count": 36,
   "metadata": {},
   "outputs": [],
   "source": [
    "# Calculate attractions and experience weights\n",
    "def calc_attraction(s_idx, t, player_info, player_DF, para, N_prev, A_prev = None, endog = False):\n",
    "    κ = para[0]\n",
    "    ϕ = para[1]\n",
    "    δ = para[2]\n",
    "    λ = para[3]\n",
    "    t_1 = player_DF['round'].loc[player_DF['round']<=t-1].iloc[-1]\n",
    "    if endog==1:\n",
    "        N = phi_rate( t_1, player_info, player_DF) * ( 1 - κ ) * N_prev + 1\n",
    "        d_t = delta( t_1, s_idx, player_info, player_DF)\n",
    "        A_1 = phi_rate( t_1, player_info, player_DF) * N_prev * A_prev\n",
    "        A_2 = ( d_t + ( 1 - d_t )*player_DF['strats'].loc[player_DF['round']==t].iloc[0][s_idx] ) * calc_payoff(s_idx, t, player_info, player_DF) \n",
    "        A = ( A_1 + A_2 ) / N\n",
    "    else:\n",
    "        N = ϕ *( 1 - κ ) * N_prev + 1\n",
    "        A = ϕ * N_prev * A_prev + ( δ + (1-δ)*player_DF['strats'].loc[player_DF['round']==t].iloc[0][s_idx]) * calc_payoff(s_idx, t, player_info, player_DF)\n",
    "        A = A / N\n",
    "    return [A, N]"
   ]
  },
  {
   "cell_type": "code",
   "execution_count": 70,
   "metadata": {},
   "outputs": [],
   "source": [
    "# Add attractions A[t] to dataframe\n",
    "\n",
    "def add_Ats_to_DF(player_info, player_DF, para, endog = False):\n",
    "    nr = player_info.n_strats.iloc[0]\n",
    "    A = [np.ones(nr) / nr]\n",
    "    N = [1]\n",
    "    for t in player_DF['round'].iloc[1:]:\n",
    "        As = np.ones(nr)\n",
    "        for s in range(0, nr):   \n",
    "            As[s] = calc_attraction( s, t, player_info.iloc[0], player_DF, para, N[-1], A[-1][s], endog)[0]\n",
    "        A.append(As)\n",
    "        N.append(calc_attraction( 0, t, player_info.iloc[0], player_DF, para, N[-1], A[-1][0], endog)[1])\n",
    "    return N, A"
   ]
  },
  {
   "cell_type": "code",
   "execution_count": 66,
   "metadata": {},
   "outputs": [],
   "source": [
    "#Logits\n",
    "\n",
    "def add_logits_to_DF(player_info, player_DF, λ):\n",
    "    Out = []\n",
    "    nr = player_info.n_strats.iloc[0]\n",
    "    for t in range(0,len(player_DF['round'].unique())):\n",
    "        As = player_DF['A'].iloc[t]\n",
    "        tot_log = 0\n",
    "        vec = np.zeros(nr)\n",
    "        for s in range(0, nr):\n",
    "            if np.exp(λ*As[s]) > 10**30:\n",
    "                vec[s] = 10**30\n",
    "                vec[s].astype(np.longdouble)\n",
    "            else:\n",
    "                vec[s] = np.exp(λ*As[s]).astype(np.longdouble)\n",
    "            tot_log += vec[s]\n",
    "        Out.append(vec/tot_log)\n",
    "    return Out"
   ]
  },
  {
   "cell_type": "code",
   "execution_count": 75,
   "metadata": {},
   "outputs": [],
   "source": [
    "#get average distance for all players all games\n",
    "def calc_tot_distance(sessions, games, para, endog = False):\n",
    "    dist = 0\n",
    "    for sid in sessions:\n",
    "        for gid in games:\n",
    "            for pid in player_DF.playerid[(player_DF['gameid']==gid) & (player_DF['session']==sid)].unique():\n",
    "                DF_t = player_DF[(player_DF['gameid']==gid) & (player_DF['playerid']==pid) & (player_DF['session']==sid)]\n",
    "                info_t = player_info[(player_info['gameid']==gid) & (player_info['playerid']==pid) & (player_info['session']==sid)]\n",
    "                DF_t['N'] = add_Ats_to_DF( info_t, DF_t, para, endog)[0]\n",
    "                DF_t['A'] = add_Ats_to_DF( info_t, DF_t, para, endog)[1]\n",
    "                DF_t['log_probs'] = add_logits_to_DF(info_t, DF_t, para[3])\n",
    "                dist += np.sum(np.sum((DF_t['strats']-DF_t['log_probs'])**2))\n",
    "    return dist"
   ]
  },
  {
   "cell_type": "code",
   "execution_count": 80,
   "metadata": {
    "scrolled": true
   },
   "outputs": [
    {
     "data": {
      "text/plain": [
       "77.84201966765228"
      ]
     },
     "execution_count": 80,
     "metadata": {},
     "output_type": "execute_result"
    }
   ],
   "source": [
    "#Simple test\n",
    "import warnings\n",
    "warnings.filterwarnings(\"ignore\")\n",
    "para = [0,0,1,1]\n",
    "calc_tot_distance([0],[1], [1,1,0,40], 0)"
   ]
  },
  {
   "cell_type": "code",
   "execution_count": 19,
   "metadata": {},
   "outputs": [],
   "source": [
    "# Generate a min function for different parameter combinations\n",
    "# self-tuning EWA (endog=1)\n",
    "\n",
    "def max_func(sessions, games, λ):\n",
    "    para = [0,0,1,λ]  \n",
    "    return calc_tot_distance(sessions, games, para, 1)"
   ]
  },
  {
   "cell_type": "code",
   "execution_count": 38,
   "metadata": {},
   "outputs": [],
   "source": [
    "# δ=1, κ=0, λ and ϕ free weighted stochastic fictious play \n",
    "def max_func(sessions, games, par):\n",
    "    λ = par[0]\n",
    "    ϕ = par[1]\n",
    "    para = [0,ϕ,1,λ]  \n",
    "    return calc_tot_distance(sessions, games, para, 0)"
   ]
  },
  {
   "cell_type": "code",
   "execution_count": null,
   "metadata": {},
   "outputs": [],
   "source": [
    "# λ free, δ=1, ϕ =κ=0 qantal response cournot \n",
    "def max_func(sessions, games, λ):\n",
    "    para = [0,0,1,λ]  \n",
    "    return calc_tot_distance(sessions, games, para, 0)"
   ]
  },
  {
   "cell_type": "code",
   "execution_count": 77,
   "metadata": {},
   "outputs": [],
   "source": [
    "# λ and ϕ free, δ=0 and κ=1 is comulative reinforcement model\n",
    "def max_func(sessions, games, par):\n",
    "    λ = par[0]\n",
    "    ϕ = par[1]\n",
    "    para = [1,ϕ,0,λ]  \n",
    "    return calc_tot_distance(sessions, games, para, 0)"
   ]
  },
  {
   "cell_type": "code",
   "execution_count": null,
   "metadata": {},
   "outputs": [],
   "source": [
    "# All free EWA full power\n",
    "def max_func(sessions, games, par):\n",
    "    return calc_tot_distance(sessions, games, para, 0)"
   ]
  },
  {
   "cell_type": "code",
   "execution_count": 81,
   "metadata": {
    "scrolled": true
   },
   "outputs": [
    {
     "name": "stdout",
     "output_type": "stream",
     "text": [
      "Session 7-0 at Saturday, December 12, 2020 12:01:53\n",
      "It took 64 minutes\n",
      "Session 7-1 at Saturday, December 12, 2020 01:05:55\n",
      "It took 55 minutes\n",
      "Session 7-2 at Saturday, December 12, 2020 02:01:23\n",
      "It took 59 minutes\n",
      "Session 7-3 at Saturday, December 12, 2020 03:01:04\n",
      "It took 57 minutes\n",
      "Session 7-4 at Saturday, December 12, 2020 03:58:22\n",
      "It took 60 minutes\n",
      "Session 7-5 at Saturday, December 12, 2020 04:59:02\n",
      "It took 61 minutes\n",
      "Session 7-6 at Saturday, December 12, 2020 06:00:15\n",
      "It took 57 minutes\n"
     ]
    }
   ],
   "source": [
    "# Finding optimal parameters for 7-fold cross validation all games together\n",
    "from scipy.optimize import minimize\n",
    "import functools\n",
    "bnds = ((0.001,50),(0,1))\n",
    "for t in np.arange(7):\n",
    "    a = np.arange(7)\n",
    "    b = np.arange(6)+1\n",
    "    a = np.delete(a, t)\n",
    "    current_time = time.time()\n",
    "    dt = datetime.fromtimestamp(current_time).strftime(\"%A, %B %d, %Y %I:%M:%S\")\n",
    "    print(f\"Session 7-{t} at {dt}\")\n",
    "    score = minimize(functools.partial(max_func,a,b), x0=(0.1,0.1), method='SLSQP', bounds=bnds)\n",
    "    print(f\"It took {int((time.time() - current_time)/60)} minutes\")\n",
    "    score = pd.DataFrame(score)\n",
    "    #score.to_pickle(f\"data/opt_wstficp_{t}\") done\n",
    "    #score.to_pickle(f\"data/opt_lambda_qr7_{t}\")\n",
    "    #score.to_pickle(f\"data/opt_lambda_stewa_{t}\") done\n",
    "    #score.to_pickle(f\"data/opt_crfm_{t}\") done\n",
    "    score.to_pickle(f\"data/opt_ewa_{t}\")"
   ]
  },
  {
   "cell_type": "code",
   "execution_count": null,
   "metadata": {
    "scrolled": true
   },
   "outputs": [
    {
     "name": "stdout",
     "output_type": "stream",
     "text": [
      "Session 7-0 at Saturday, December 12, 2020 06:57:24 game 1\n",
      "It took 11 minutes\n",
      "Session 7-0 at Saturday, December 12, 2020 07:09:06 game 2\n",
      "It took 9 minutes\n",
      "Session 7-0 at Saturday, December 12, 2020 07:18:31 game 3\n",
      "It took 8 minutes\n",
      "Session 7-0 at Saturday, December 12, 2020 07:27:10 game 4\n",
      "It took 5 minutes\n",
      "Session 7-0 at Saturday, December 12, 2020 07:32:11 game 5\n",
      "It took 11 minutes\n",
      "Session 7-0 at Saturday, December 12, 2020 07:43:14 game 6\n",
      "It took 13 minutes\n",
      "Session 7-1 at Saturday, December 12, 2020 07:57:02 game 1\n",
      "It took 10 minutes\n",
      "Session 7-1 at Saturday, December 12, 2020 08:07:58 game 2\n",
      "It took 9 minutes\n",
      "Session 7-1 at Saturday, December 12, 2020 08:17:41 game 3\n",
      "It took 8 minutes\n",
      "Session 7-1 at Saturday, December 12, 2020 08:26:03 game 4\n",
      "It took 5 minutes\n",
      "Session 7-1 at Saturday, December 12, 2020 08:31:20 game 5\n",
      "It took 10 minutes\n",
      "Session 7-1 at Saturday, December 12, 2020 08:41:26 game 6\n",
      "It took 13 minutes\n",
      "Session 7-2 at Saturday, December 12, 2020 08:55:09 game 1\n",
      "It took 11 minutes\n",
      "Session 7-2 at Saturday, December 12, 2020 09:06:41 game 2\n",
      "It took 9 minutes\n",
      "Session 7-2 at Saturday, December 12, 2020 09:16:19 game 3\n",
      "It took 10 minutes\n",
      "Session 7-2 at Saturday, December 12, 2020 09:26:29 game 4\n",
      "It took 5 minutes\n",
      "Session 7-2 at Saturday, December 12, 2020 09:31:43 game 5\n",
      "It took 12 minutes\n",
      "Session 7-2 at Saturday, December 12, 2020 09:44:14 game 6\n",
      "It took 15 minutes\n",
      "Session 7-3 at Saturday, December 12, 2020 09:59:59 game 1\n",
      "It took 12 minutes\n",
      "Session 7-3 at Saturday, December 12, 2020 10:12:20 game 2\n",
      "It took 11 minutes\n",
      "Session 7-3 at Saturday, December 12, 2020 10:23:25 game 3\n",
      "It took 10 minutes\n",
      "Session 7-3 at Saturday, December 12, 2020 10:33:56 game 4\n",
      "It took 12 minutes\n",
      "Session 7-3 at Saturday, December 12, 2020 10:46:07 game 5\n",
      "It took 18 minutes\n",
      "Session 7-3 at Saturday, December 12, 2020 11:04:15 game 6\n",
      "It took 13 minutes\n",
      "Session 7-4 at Saturday, December 12, 2020 11:17:46 game 1\n",
      "It took 12 minutes\n",
      "Session 7-4 at Saturday, December 12, 2020 11:30:42 game 2\n",
      "It took 11 minutes\n",
      "Session 7-4 at Saturday, December 12, 2020 11:42:17 game 3\n",
      "It took 12 minutes\n",
      "Session 7-4 at Saturday, December 12, 2020 11:54:37 game 4\n",
      "It took 7 minutes\n",
      "Session 7-4 at Saturday, December 12, 2020 12:01:45 game 5\n"
     ]
    }
   ],
   "source": [
    "# Finding optimal parameters for 7-fold cross validation by games\n",
    "\n",
    "from scipy.optimize import minimize\n",
    "import functools\n",
    "bnds = ((0.001,50),(0,1))\n",
    "for t in np.arange(7):\n",
    "    a = np.arange(7)\n",
    "    a = np.delete(a, t)\n",
    "    for gid in player_DF.gameid.unique():\n",
    "        current_time = time.time()\n",
    "        dt = datetime.fromtimestamp(current_time).strftime(\"%A, %B %d, %Y %I:%M:%S\")\n",
    "        print(f\"Session 7-{t} at {dt} game {gid}\")\n",
    "        score = minimize(functools.partial(max_func,a, [gid]), x0=[0.1,0.1], method='SLSQP', bounds=bnds)\n",
    "        print(f\"It took {int((time.time() - current_time)/60)} minutes\")\n",
    "        score = pd.DataFrame(score)\n",
    "        #score.to_pickle(f\"data/opt_wstficp_game{gid}_ses7_{t}\") done\n",
    "        #score.to_pickle(f\"data/opt_lambda_qr_game{gid}_ses7_{t}\")\n",
    "        #score.to_pickle(f\"data/opt_lambda_stewa_game{gid}_ses7_{t}\") done\n",
    "        #score.to_pickle(f\"data/opt_crfm_game{gid}_ses_{t}\") done\n",
    "        score.to_pickle(f\"data/opt_ewa_game{gid}_ses_{t}\")"
   ]
  },
  {
   "cell_type": "code",
   "execution_count": 36,
   "metadata": {},
   "outputs": [],
   "source": [
    "# Benchmarks\n",
    "import random\n",
    "random.seed(30)\n",
    "d"
   ]
  }
 ],
 "metadata": {
  "kernelspec": {
   "display_name": "Python 3",
   "language": "python",
   "name": "python3"
  },
  "language_info": {
   "codemirror_mode": {
    "name": "ipython",
    "version": 3
   },
   "file_extension": ".py",
   "mimetype": "text/x-python",
   "name": "python",
   "nbconvert_exporter": "python",
   "pygments_lexer": "ipython3",
   "version": "3.7.9"
  }
 },
 "nbformat": 4,
 "nbformat_minor": 4
}
