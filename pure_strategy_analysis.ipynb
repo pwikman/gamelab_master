{
 "cells": [
  {
   "cell_type": "code",
   "execution_count": 2,
   "metadata": {},
   "outputs": [],
   "source": [
    "# Load data\n",
    "import pandas as pd\n",
    "pd.options.mode.chained_assignment = None  # default='warn'\n",
    "import numpy as np\n",
    "player_DF = pd.read_pickle('data_all_TSE')\n",
    "player_info = pd.read_pickle('info_all_TSE') \n",
    "survey = pd.read_pickle('quest_ansers_wra')"
   ]
  },
  {
   "cell_type": "code",
   "execution_count": 3,
   "metadata": {},
   "outputs": [],
   "source": [
    "# checks whether a strategy is pure or not\n",
    "def pure_data_player(player_DF):\n",
    "    p_d = player_DF['strats'].apply(lambda x: 1 if np.array(x).max()==1 else 0)\n",
    "    player_DF['pure_played'] = p_d\n",
    "    return player_DF\n"
   ]
  },
  {
   "cell_type": "code",
   "execution_count": 4,
   "metadata": {},
   "outputs": [
    {
     "data": {
      "text/plain": [
       "0.4140149908075237"
      ]
     },
     "execution_count": 4,
     "metadata": {},
     "output_type": "execute_result"
    }
   ],
   "source": [
    "# How often do people play pure strategies?\n",
    "player_DF = pure_data_player(player_DF)\n",
    "player_DF['cum_pure_played'] = player_DF['pure_played'].groupby(player_DF['playerid']).cumsum()\n",
    "player_DF['pure_played'].sum()/len(player_DF)\n"
   ]
  },
  {
   "cell_type": "code",
   "execution_count": 1,
   "metadata": {},
   "outputs": [],
   "source": [
    "%config Completer.use_jedi = False\n"
   ]
  },
  {
   "cell_type": "code",
   "execution_count": 5,
   "metadata": {},
   "outputs": [
    {
     "data": {
      "text/plain": [
       "array([1.0359689 , 1.01872624])"
      ]
     },
     "execution_count": 5,
     "metadata": {},
     "output_type": "execute_result"
    }
   ],
   "source": [
    "from sklearn.linear_model import LogisticRegression\n",
    "gid = 6\n",
    "sid =2\n",
    "X = player_DF[['cum_pure_played']][(player_DF.gameid==gid) & (player_DF.session==sid)][1:]\n",
    "X = pd.concat([X.reset_index(drop=True),player_DF['round'][(player_DF.gameid==gid) & (player_DF.session==sid)][:-1].reset_index(drop=True)], axis=1)\n",
    "y = player_DF['pure_played'][(player_DF.gameid==gid) & (player_DF.session==sid)][1:].reset_index(drop=True)\n",
    "clf = LogisticRegression(random_state=0).fit(X, y)\n",
    "clf.coef_\n",
    "np.exp(clf.coef_[0])"
   ]
  },
  {
   "cell_type": "code",
   "execution_count": 12,
   "metadata": {},
   "outputs": [
    {
     "data": {
      "image/png": "[encoded data removed]",
      "text/plain": [
       "<Figure size 1152x576 with 1 Axes>"
      ]
     },
     "metadata": {
      "needs_background": "light"
     },
     "output_type": "display_data"
    }
   ],
   "source": [
    "import seaborn as sns\n",
    "import matplotlib.pyplot as plt\n",
    "data = pd.concat([player_DF['pure_played'], player_DF['round']], axis=1)\n",
    "f, ax = plt.subplots(figsize=(16, 8))\n",
    "fig = sns.scatterplot(x= player_DF['round'], y=player_DF['pure_played'], data=data)\n",
    "fig.axis(ymin=0, ymax=1);\n",
    "plt.xticks(rotation=45);"
   ]
  }
 ],
 "metadata": {
  "kernelspec": {
   "display_name": "Python 3",
   "language": "python",
   "name": "python3"
  },
  "language_info": {
   "codemirror_mode": {
    "name": "ipython",
    "version": 3
   },
   "file_extension": ".py",
   "mimetype": "text/x-python",
   "name": "python",
   "nbconvert_exporter": "python",
   "pygments_lexer": "ipython3",
   "version": "3.7.9"
  }
 },
 "nbformat": 4,
 "nbformat_minor": 4
}
