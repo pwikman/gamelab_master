{
 "cells": [
  {
   "cell_type": "markdown",
   "metadata": {},
   "source": [
    "This document provides the EWA score calculations"
   ]
  },
  {
   "cell_type": "code",
   "execution_count": 1,
   "metadata": {},
   "outputs": [],
   "source": [
    "# Load data\n",
    "import pandas as pd\n",
    "import numpy as np\n",
    "from datetime import datetime\n",
    "import time\n",
    "pd.options.mode.chained_assignment = None  # default='warn'\n",
    "player_DF = pd.read_pickle('data_all_TSE')\n",
    "player_info = pd.read_pickle('info_all_TSE') "
   ]
  },
  {
   "cell_type": "code",
   "execution_count": 2,
   "metadata": {
    "scrolled": true
   },
   "outputs": [
    {
     "name": "stdout",
     "output_type": "stream",
     "text": [
      "  playerid round gameid    payoff globalid                strats  \\\n",
      "0       26     1      1  0.100000       15  [0.0, 0.0, 0.0, 1.0]   \n",
      "1       26     2      1  7.813333       15  [0.0, 0.5, 0.5, 0.0]   \n",
      "2       26     3      1  7.250000       15  [0.0, 0.0, 1.0, 0.0]   \n",
      "3       26     4      1  8.231944       15  [0.0, 0.5, 0.5, 0.0]   \n",
      "4       26     5      1  9.366667       15  [0.0, 0.0, 1.0, 0.0]   \n",
      "\n",
      "                   self_avg_s  \\\n",
      "0  [0.146, 0.306, 0.248, 0.3]   \n",
      "1     [0.13, 0.61, 0.26, 0.0]   \n",
      "2   [0.075, 0.35, 0.575, 0.0]   \n",
      "3    [0.18, 0.38, 0.42, 0.02]   \n",
      "4     [0.23, 0.3, 0.42, 0.05]   \n",
      "\n",
      "                                      opponent_avg_s  \\\n",
      "0  [0.15, 0.38722222222222225, 0.4461111111111111...   \n",
      "1  [0.16666666666666666, 0.39666666666666667, 0.3...   \n",
      "2  [0.225, 0.3333333333333333, 0.325, 0.116666666...   \n",
      "3  [0.3416666666666667, 0.35555555555555557, 0.30...   \n",
      "4  [0.13125, 0.33958333333333335, 0.5291666666666...   \n",
      "\n",
      "                    prev_self  \\\n",
      "0                         NaN   \n",
      "1  [0.146, 0.306, 0.248, 0.3]   \n",
      "2     [0.13, 0.61, 0.26, 0.0]   \n",
      "3   [0.075, 0.35, 0.575, 0.0]   \n",
      "4    [0.18, 0.38, 0.42, 0.02]   \n",
      "\n",
      "                                            prev_opp  session  \n",
      "0                                                NaN      0.0  \n",
      "1  [0.15, 0.38722222222222225, 0.4461111111111111...      0.0  \n",
      "2  [0.16666666666666666, 0.39666666666666667, 0.3...      0.0  \n",
      "3  [0.225, 0.3333333333333333, 0.325, 0.116666666...      0.0  \n",
      "4  [0.3416666666666667, 0.35555555555555557, 0.30...      0.0  \n",
      "  role                                         payoff_mat  \\\n",
      "0    0  [[10.0, 0.0, 11.0, 0.0], [12.0, 10.0, 5.0, 0.0...   \n",
      "1    0  [[10.0, 0.0, 11.0, 0.0], [12.0, 10.0, 5.0, 0.0...   \n",
      "2    0  [[10.0, 0.0, 11.0, 0.0], [12.0, 10.0, 5.0, 0.0...   \n",
      "3    1  [[10.0, 0.0, 11.0, 0.0], [12.0, 10.0, 5.0, 0.0...   \n",
      "4    0  [[10.0, 0.0, 11.0, 0.0], [12.0, 10.0, 5.0, 0.0...   \n",
      "\n",
      "                                      opp_payoff_mat n_strats  gameid  \\\n",
      "0  [[10.0, 0.0, 11.0, 0.0], [12.0, 10.0, 5.0, 0.0...        4     1.0   \n",
      "1  [[10.0, 0.0, 11.0, 0.0], [12.0, 10.0, 5.0, 0.0...        4     1.0   \n",
      "2  [[10.0, 0.0, 11.0, 0.0], [12.0, 10.0, 5.0, 0.0...        4     1.0   \n",
      "3  [[10.0, 0.0, 11.0, 0.0], [12.0, 10.0, 5.0, 0.0...        4     1.0   \n",
      "4  [[10.0, 0.0, 11.0, 0.0], [12.0, 10.0, 5.0, 0.0...        4     1.0   \n",
      "\n",
      "   playerid  session  \n",
      "0      26.0      0.0  \n",
      "1      19.0      0.0  \n",
      "2      14.0      0.0  \n",
      "3      30.0      0.0  \n",
      "4      27.0      0.0  \n"
     ]
    }
   ],
   "source": [
    "print(player_DF.head())\n",
    "print(player_info.head())"
   ]
  },
  {
   "cell_type": "code",
   "execution_count": 3,
   "metadata": {},
   "outputs": [],
   "source": [
    "# Calculates payoff given mixed strategy by the vector s, round t\n",
    "\n",
    "def calc_payoff(s_idx, t, player_info, player_DF):\n",
    "    nr = player_info.n_strats\n",
    "    self_s = np.zeros(nr)\n",
    "    self_s[s_idx] = 1\n",
    "    opp_s = np.array(player_DF['opponent_avg_s'][player_DF['round']==t].values[0])\n",
    "    mat = player_info['payoff_mat']\n",
    "    return np.dot(np.dot(self_s,mat),opp_s.T)"
   ]
  },
  {
   "cell_type": "code",
   "execution_count": 4,
   "metadata": {},
   "outputs": [],
   "source": [
    "# The attention function\n",
    "\n",
    "def delta(t, s_idx, player_info, player_DF, δ):\n",
    "    val = player_DF.payoff[player_DF['round']==t].values\n",
    "    δ=0\n",
    "    if calc_payoff(s_idx,t, player_info, player_DF)>=float(val):\n",
    "        δ=1\n",
    "    return δ"
   ]
  },
  {
   "cell_type": "code",
   "execution_count": 5,
   "metadata": {},
   "outputs": [],
   "source": [
    "# The change-dectecting decay rate\n",
    "\n",
    "def phi_rate(t, player_info, player_DF):\n",
    "    S_t=0\n",
    "    for m in range(0,len(player_DF.opponent_avg_s.iloc[0])):\n",
    "        h_t = [sum(i) for i in zip(*player_DF.opponent_avg_s[player_DF['round']<=t])][m]/len(player_DF['round'][player_DF['round']<=t])\n",
    "        r_t=player_DF.opponent_avg_s[player_DF['round']==t].values[0][m]\n",
    "        S_t += (h_t-r_t)**2\n",
    "    return 1-S_t/2"
   ]
  },
  {
   "cell_type": "code",
   "execution_count": 6,
   "metadata": {},
   "outputs": [],
   "source": [
    "# Calculate attractions and experience weights\n",
    "def calc_attraction(s_idx, t, player_info, player_DF, para, N_prev, A_prev = None, endog = False):\n",
    "    κ = para[0]\n",
    "    ϕ = para[1]\n",
    "    δ = para[2]\n",
    "    λ = para[3]\n",
    "    t_1 = player_DF['round'].loc[player_DF['round']<=t-1].iloc[-1]\n",
    "    if endog==1:\n",
    "        N = phi_rate( t_1, player_info, player_DF) * ( 1 - κ ) * N_prev + 1\n",
    "        d_t = delta( t_1, s_idx, player_info, player_DF, δ)\n",
    "        A_1 = phi_rate( t_1, player_info, player_DF) * N_prev * A_prev\n",
    "        A_2 = ( d_t + ( 1 - d_t )*player_DF['strats'].loc[player_DF['round']==t].iloc[0][s_idx] ) * calc_payoff(s_idx, t, player_info, player_DF) \n",
    "        A = ( A_1 + A_2 ) / N\n",
    "    else:\n",
    "        N = ( 1 - κ ) * N_prev + 1\n",
    "        A = ϕ * N_prev * A_prev + ( δ + (1-δ)*player_DF['strats'].loc[player_DF['round']==t].iloc[0][s_idx]) * calc_payoff(s_idx, t, player_info, player_DF)\n",
    "        A = A / N\n",
    "    return [A, N]"
   ]
  },
  {
   "cell_type": "code",
   "execution_count": 7,
   "metadata": {},
   "outputs": [],
   "source": [
    "# Add attractions A[t] to dataframe\n",
    "\n",
    "def add_Ats_to_DF(player_info, player_DF, para, endog = False):\n",
    "    nr = player_info.n_strats.iloc[0]\n",
    "    A = [np.ones(nr) / nr]\n",
    "    N = [1]\n",
    "    for t in player_DF['round'].iloc[1:]:\n",
    "        As = np.ones(nr)\n",
    "        for s in range(0, nr):   \n",
    "            As[s] = calc_attraction( s, t, player_info.iloc[0], player_DF, para, N[-1], A[-1][s], endog)[0]\n",
    "        A.append(As)\n",
    "        N.append(calc_attraction( 0, t, player_info.iloc[0], player_DF, para, N[-1], A[-1][0], endog)[1])\n",
    "    return N, A"
   ]
  },
  {
   "cell_type": "code",
   "execution_count": 8,
   "metadata": {},
   "outputs": [],
   "source": [
    "#Logits\n",
    "\n",
    "def add_logits_to_DF(player_info, player_DF, λ):\n",
    "    Out = []\n",
    "    nr = player_info.n_strats.iloc[0]\n",
    "    for t in range(0,len(player_DF['round'].unique())):\n",
    "        As = player_DF['A'].iloc[t]\n",
    "        tot_log = 0\n",
    "        vec = np.zeros(nr)\n",
    "        for s in range(0, nr):\n",
    "            vec[s] = np.exp(λ*As[s]).astype(np.longdouble)\n",
    "            tot_log += vec[s]\n",
    "        Out.append(vec/tot_log)\n",
    "    return Out"
   ]
  },
  {
   "cell_type": "code",
   "execution_count": 9,
   "metadata": {},
   "outputs": [],
   "source": [
    "#get average distance for all players all games\n",
    "def calc_tot_distance(sessions, games, para, endog = False):\n",
    "    dist = 0\n",
    "    for sid in sessions:\n",
    "        for gid in games:\n",
    "            for pid in player_DF.playerid[(player_DF['gameid']==gid) & (player_DF['session']==sid)].unique():\n",
    "                DF_t = player_DF[(player_DF['gameid']==gid) & (player_DF['playerid']==pid) & (player_DF['session']==sid)]\n",
    "                info_t = player_info[(player_info['gameid']==gid) & (player_info['playerid']==pid) & (player_info['session']==sid)]\n",
    "                DF_t['N'] = add_Ats_to_DF( info_t, DF_t, para, endog)[0]\n",
    "                DF_t['A'] = add_Ats_to_DF( info_t, DF_t, para, endog)[1]\n",
    "                DF_t['log_probs'] = add_logits_to_DF(info_t, DF_t, para[3])\n",
    "                dist += np.sum(np.sum((DF_t['strats']-DF_t['log_probs'])**2))\n",
    "    return dist"
   ]
  },
  {
   "cell_type": "code",
   "execution_count": 18,
   "metadata": {
    "scrolled": true
   },
   "outputs": [
    {
     "name": "stdout",
     "output_type": "stream",
     "text": [
      "14.4 s ± 1.02 s per loop (mean ± std. dev. of 7 runs, 1 loop each)\n"
     ]
    }
   ],
   "source": [
    "#Simple test\n",
    "para = [0,0,1,1]\n",
    "%timeit calc_tot_distance([0],[1], para, 1)"
   ]
  },
  {
   "cell_type": "code",
   "execution_count": 10,
   "metadata": {},
   "outputs": [],
   "source": [
    "# Generate a min function for quantal response and self-tuning EWA (endog=1)\n",
    "def max_func(sessions, games, λ):\n",
    "    para = [0,0,1,λ]  # λ free, δ=1, \\phi =\\kappa=0\n",
    "    return calc_tot_distance(sessions, games, para, 1)"
   ]
  },
  {
   "cell_type": "code",
   "execution_count": null,
   "metadata": {
    "scrolled": true
   },
   "outputs": [
    {
     "name": "stdout",
     "output_type": "stream",
     "text": [
      "Session 7-0 at Thursday, December 10, 2020 09:32:32\n"
     ]
    }
   ],
   "source": [
    "# Finding optimal parameters for 7-fold cross validation all games together\n",
    "from scipy.optimize import minimize\n",
    "import functools\n",
    "bnds = ((0.01,50),)\n",
    "for t in np.arange(7):\n",
    "    a = np.arange(7)\n",
    "    b = np.arange(6)+1\n",
    "    a = np.delete(a, t)\n",
    "    current_time = time.time()\n",
    "    dt = datetime.fromtimestamp(current_time).strftime(\"%A, %B %d, %Y %I:%M:%S\")\n",
    "    print(f\"Session 7-{t} at {dt}\")\n",
    "    score = minimize(functools.partial(max_func,a,b), x0=[0.1], method='SLSQP', bounds=bnds)\n",
    "    print(f\"It took {int((time.time() - current_time)/60)} minutes\")\n",
    "    score = pd.DataFrame(score)\n",
    "    score.to_pickle(f\"data/opt_lambda_stewa_{t}\")"
   ]
  },
  {
   "cell_type": "code",
   "execution_count": 11,
   "metadata": {
    "scrolled": true
   },
   "outputs": [
    {
     "name": "stdout",
     "output_type": "stream",
     "text": [
      "Session 7-1 at Wednesday, December 09, 2020 12:42:40 game 1\n",
      "It took 30 minutes\n",
      "Session 7-1 at Wednesday, December 09, 2020 01:13:24 game 2\n",
      "It took 28 minutes\n",
      "Session 7-1 at Wednesday, December 09, 2020 01:41:28 game 3\n",
      "It took 21 minutes\n",
      "Session 7-1 at Wednesday, December 09, 2020 02:03:15 game 4\n",
      "It took 19 minutes\n",
      "Session 7-1 at Wednesday, December 09, 2020 02:22:52 game 5\n",
      "It took 46 minutes\n",
      "Session 7-1 at Wednesday, December 09, 2020 03:09:15 game 6\n",
      "It took 49 minutes\n",
      "Session 7-2 at Wednesday, December 09, 2020 03:58:21 game 1\n",
      "It took 37 minutes\n",
      "Session 7-2 at Wednesday, December 09, 2020 04:36:10 game 2\n",
      "It took 28 minutes\n",
      "Session 7-2 at Wednesday, December 09, 2020 05:04:10 game 3\n",
      "It took 19 minutes\n",
      "Session 7-2 at Wednesday, December 09, 2020 05:23:26 game 4\n",
      "It took 18 minutes\n",
      "Session 7-2 at Wednesday, December 09, 2020 05:41:51 game 5\n",
      "It took 38 minutes\n",
      "Session 7-2 at Wednesday, December 09, 2020 06:20:05 game 6\n",
      "It took 51 minutes\n",
      "Session 7-3 at Wednesday, December 09, 2020 07:11:52 game 1\n",
      "It took 33 minutes\n",
      "Session 7-3 at Wednesday, December 09, 2020 07:44:52 game 2\n",
      "It took 30 minutes\n",
      "Session 7-3 at Wednesday, December 09, 2020 08:15:23 game 3\n",
      "It took 24 minutes\n",
      "Session 7-3 at Wednesday, December 09, 2020 08:39:25 game 4\n",
      "It took 18 minutes\n",
      "Session 7-3 at Wednesday, December 09, 2020 08:58:11 game 5\n",
      "It took 56 minutes\n",
      "Session 7-3 at Wednesday, December 09, 2020 09:54:20 game 6\n",
      "It took 70 minutes\n",
      "Session 7-4 at Wednesday, December 09, 2020 11:04:56 game 1\n",
      "It took 41 minutes\n",
      "Session 7-4 at Wednesday, December 09, 2020 11:46:25 game 2\n",
      "It took 28 minutes\n",
      "Session 7-4 at Thursday, December 10, 2020 12:15:17 game 3\n",
      "It took 23 minutes\n",
      "Session 7-4 at Thursday, December 10, 2020 12:39:08 game 4\n",
      "It took 20 minutes\n",
      "Session 7-4 at Thursday, December 10, 2020 12:59:33 game 5\n",
      "It took 34 minutes\n",
      "Session 7-4 at Thursday, December 10, 2020 01:34:28 game 6\n",
      "It took 43 minutes\n",
      "Session 7-5 at Thursday, December 10, 2020 02:17:36 game 1\n",
      "It took 30 minutes\n",
      "Session 7-5 at Thursday, December 10, 2020 02:47:55 game 2\n",
      "It took 28 minutes\n",
      "Session 7-5 at Thursday, December 10, 2020 03:16:50 game 3\n",
      "It took 23 minutes\n",
      "Session 7-5 at Thursday, December 10, 2020 03:40:33 game 4\n",
      "It took 18 minutes\n",
      "Session 7-5 at Thursday, December 10, 2020 03:59:30 game 5\n",
      "It took 36 minutes\n",
      "Session 7-5 at Thursday, December 10, 2020 04:36:14 game 6\n",
      "It took 43 minutes\n",
      "Session 7-6 at Thursday, December 10, 2020 05:19:47 game 1\n",
      "It took 30 minutes\n",
      "Session 7-6 at Thursday, December 10, 2020 05:50:16 game 2\n",
      "It took 29 minutes\n",
      "Session 7-6 at Thursday, December 10, 2020 06:19:36 game 3\n",
      "It took 22 minutes\n",
      "Session 7-6 at Thursday, December 10, 2020 06:42:05 game 4\n",
      "It took 18 minutes\n",
      "Session 7-6 at Thursday, December 10, 2020 07:00:22 game 5\n",
      "It took 41 minutes\n",
      "Session 7-6 at Thursday, December 10, 2020 07:42:03 game 6\n",
      "It took 44 minutes\n"
     ]
    }
   ],
   "source": [
    "# Finding optimal parameters for 7-fold cross validation by games\n",
    "\n",
    "from scipy.optimize import minimize\n",
    "import functools\n",
    "bnds = ((0.01,50),)\n",
    "for t in np.arange(7):\n",
    "    a = np.arange(7)\n",
    "    a = np.delete(a, t)\n",
    "    for gid in player_DF.gameid.unique():\n",
    "        current_time = time.time()\n",
    "        dt = datetime.fromtimestamp(current_time).strftime(\"%A, %B %d, %Y %I:%M:%S\")\n",
    "        print(f\"Session 7-{t} at {dt} game {gid}\")\n",
    "        score = minimize(functools.partial(max_func,a, [gid]), x0=[0.1], method='SLSQP', bounds=bnds)\n",
    "        print(f\"It took {int((time.time() - current_time)/60)} minutes\")\n",
    "        score = pd.DataFrame(score)\n",
    "        score.to_pickle(f\"data/opt_lambda_stewa_game{gid}_ses7_{t}\")"
   ]
  },
  {
   "cell_type": "code",
   "execution_count": 36,
   "metadata": {},
   "outputs": [],
   "source": [
    "# Benchmarks\n",
    "import random\n",
    "random.seed(30)\n"
   ]
  }
 ],
 "metadata": {
  "kernelspec": {
   "display_name": "Python 3",
   "language": "python",
   "name": "python3"
  },
  "language_info": {
   "codemirror_mode": {
    "name": "ipython",
    "version": 3
   },
   "file_extension": ".py",
   "mimetype": "text/x-python",
   "name": "python",
   "nbconvert_exporter": "python",
   "pygments_lexer": "ipython3",
   "version": "3.7.9"
  }
 },
 "nbformat": 4,
 "nbformat_minor": 4
}
