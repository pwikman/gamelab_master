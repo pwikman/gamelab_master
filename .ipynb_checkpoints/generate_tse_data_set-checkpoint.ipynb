{
 "cells": [
  {
   "cell_type": "code",
   "execution_count": 1,
   "metadata": {},
   "outputs": [],
   "source": [
    "import pandas as pd\n",
    "import numpy as np\n",
    "from common_functions import get_clean_data\n",
    "from common_functions import get_player_game_info, get_player_game_data\n",
    "pd.options.mode.chained_assignment = None  # default='warn'\n",
    "# master (1 session), TSE (0-6 sessions), or Mturk (0-4 sessions)\n",
    "exp = \"tse\"\n",
    "lis = []\n",
    "for ses in np.arange(7):\n",
    "    all_choices = get_clean_data(exp,ses,\"choice\")\n",
    "    all_players = get_clean_data(exp,ses,\"player\")\n",
    "    all_games = get_clean_data(exp,ses,\"game\")\n",
    "    all_payoffs = get_clean_data(exp,ses,\"payoff\")\n",
    "    all_pasts = get_clean_data(exp,ses,\"past\")\n",
    "    all_gameplays = get_clean_data(exp,ses,\"gameplay\")\n",
    "    all_games = all_games.sort_values(['id']).reset_index(drop=True)\n",
    "    all_pasts = all_pasts.sort_values(['round','gameid']).reset_index(drop=True)\n",
    "    \n",
    "    lis.append( [all_payoffs, all_choices, all_players, all_games, all_pasts, all_gameplays] )\n"
   ]
  },
  {
   "cell_type": "code",
   "execution_count": 2,
   "metadata": {},
   "outputs": [],
   "source": [
    "#Making a large dataset and saving it all to csv\n",
    "data_info_all_TSE = pd.DataFrame(columns=get_player_game_data(3, 1, lis[5]).columns.drop(['Unnamed: 0']))\n",
    "\n",
    "for t, ses in enumerate(lis):\n",
    "    for gid in ses[3].id.unique():\n",
    "        for pid in ses[2].id.unique():\n",
    "            dd = get_player_game_data(pid, gid, ses)[get_player_game_data(pid, gid, ses).columns.drop(['Unnamed: 0'])]\n",
    "            dd['session'] = int(t)\n",
    "            data_info_all_TSE = data_info_all_TSE.append(dd, ignore_index=True)\n",
    "data_info_all_TSE.to_pickle('data_all_TSE')"
   ]
  },
  {
   "cell_type": "code",
   "execution_count": 3,
   "metadata": {},
   "outputs": [],
   "source": [
    "#Making a large dataset about game info etc and saving it all to csv\n",
    "data_info_all_TSE = pd.DataFrame(columns=get_player_game_info(3, 1, lis[5][1:4]))\n",
    "\n",
    "for t, ses in enumerate(lis):\n",
    "    for gid in ses[3].id.unique():\n",
    "        for pid in ses[2].id.unique():\n",
    "            dd = get_player_game_info(pid, gid, ses[1:4])\n",
    "            dd['session'] = int(t)\n",
    "            dd['playerid'] = pid\n",
    "            dd['gameid'] = gid\n",
    "            data_info_all_TSE = data_info_all_TSE.append(dd, ignore_index=True)\n",
    "data_info_all_TSE.to_pickle('info_all_TSE')"
   ]
  }
 ],
 "metadata": {
  "kernelspec": {
   "display_name": "Python 3",
   "language": "python",
   "name": "python3"
  },
  "language_info": {
   "codemirror_mode": {
    "name": "ipython",
    "version": 3
   },
   "file_extension": ".py",
   "mimetype": "text/x-python",
   "name": "python",
   "nbconvert_exporter": "python",
   "pygments_lexer": "ipython3",
   "version": "3.7.9"
  }
 },
 "nbformat": 4,
 "nbformat_minor": 4
}
