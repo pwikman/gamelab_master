{
 "cells": [
  {
   "cell_type": "code",
   "execution_count": 1,
   "metadata": {},
   "outputs": [],
   "source": [
    "#%% \n",
    "import numpy as np\n",
    "import pandas as pd\n",
    "import pickle as pickle\n",
    "from common_functions import get_clean_data"
   ]
  },
  {
   "cell_type": "code",
   "execution_count": 2,
   "metadata": {},
   "outputs": [],
   "source": [
    "def rational_to_double(rat):\n",
    "    \"\"\" Takes a string of typ 4/4 or 4 and returns the corresponding float\"\"\"\n",
    "    tmp = rat.split(\"/\")\n",
    "    if len(tmp) > 1:\n",
    "        num = float(tmp[0])\n",
    "        den = float(tmp[1])\n",
    "        return num/den\n",
    "    else:\n",
    "        return float(tmp[0])"
   ]
  },
  {
   "cell_type": "code",
   "execution_count": 3,
   "metadata": {},
   "outputs": [],
   "source": [
    "def string_to_list(lista):\n",
    "    \"\"\" Takes a string of rationals on format 1/2 and returns a list of floats \"\"\"\n",
    "    splitted = lista.split()\n",
    "    return [rational_to_double(x) for x in splitted]"
   ]
  },
  {
   "cell_type": "code",
   "execution_count": 4,
   "metadata": {},
   "outputs": [],
   "source": [
    "def get_payoff_mats(payoffs, p1_n_strats):\n",
    "    \"\"\" Takes a string of payoffs and return an array with the two payoff mats \"\"\"\n",
    "    payoff_list = [int(x) for x in payoffs.split()]\n",
    "    p2_n_strats = int(len(payoff_list)/(2*p1_n_strats))\n",
    "\n",
    "    p1_payoffs = np.array([payoff_list[i] for i in range(0,len(payoff_list)) if i % 2 == 0])\n",
    "    p2_payoffs = np.array([payoff_list[i] for i in range(0,len(payoff_list)) if (i+1) % 2 == 0])\n",
    "\n",
    "    p1_payoff_mat = np.reshape(p1_payoffs, (p1_n_strats, p2_n_strats))\n",
    "    p2_payoff_mat = np.reshape(p2_payoffs, (p2_n_strats, p1_n_strats), order='F')\n",
    "\n",
    "    return [p1_payoff_mat, p2_payoff_mat]"
   ]
  },
  {
   "cell_type": "code",
   "execution_count": 10,
   "metadata": {},
   "outputs": [
    {
     "data": {
      "text/plain": [
       "float"
      ]
     },
     "execution_count": 10,
     "metadata": {},
     "output_type": "execute_result"
    }
   ],
   "source": [
    "# master (1 session), TSE (0-6 sessions), or Mturk (0-4 sessions)\n",
    "exp = \"mturk\"\n",
    "ses = \"4\"\n",
    "all_choices = get_clean_data(exp,ses,\"choice\")\n",
    "all_players = get_clean_data(exp,ses,\"player\")\n",
    "all_games = get_clean_data(exp,ses,\"game\")\n",
    "all_payoffs = get_clean_data(exp,ses,\"payoff\")\n",
    "all_pasts = get_clean_data(exp,ses,\"past\")\n",
    "all_gameplays = get_clean_data(exp,ses,\"gameplay\")\n",
    "\n",
    "\n",
    "all_choices[\"strats\"] = all_choices[\"strats\"].apply(string_to_list)\n",
    "all_payoffs[\"payoff\"] = all_payoffs[\"payoff\"].apply(rational_to_double)\n",
    "all_pasts[\"currentsp1\"] = all_pasts[\"currentsp1\"].apply(string_to_list)\n",
    "all_pasts[\"currentsp2\"] = all_pasts[\"currentsp2\"].apply(string_to_list)\n",
    "all_games[\"payoffs\"] = all_games.apply(lambda row: get_payoff_mats(row[\"payoffs\"], row[\"p1\"]), axis=1)\n",
    "all_games = all_games.sort_values(['id']).reset_index(drop=True)\n",
    "all_pasts = all_pasts.sort_values(['round','gameid']).reset_index(drop=True)\n",
    "#all_pasts[\"currentsp2\"][(all_pasts[\"round\"] == 1) & (all_pasts[\"gameid\"] == 3)][2]\n",
    "type(all_choices.strats[0][0])"
   ]
  },
  {
   "cell_type": "code",
   "execution_count": 7,
   "metadata": {},
   "outputs": [
    {
     "name": "stderr",
     "output_type": "stream",
     "text": [
      "C:\\Users\\peter\\anaconda3\\lib\\site-packages\\ipykernel_launcher.py:21: SettingWithCopyWarning: \n",
      "A value is trying to be set on a copy of a slice from a DataFrame\n",
      "\n",
      "See the caveats in the documentation: https://pandas.pydata.org/pandas-docs/stable/user_guide/indexing.html#returning-a-view-versus-a-copy\n",
      "C:\\Users\\peter\\anaconda3\\lib\\site-packages\\ipykernel_launcher.py:22: SettingWithCopyWarning: \n",
      "A value is trying to be set on a copy of a slice from a DataFrame\n",
      "\n",
      "See the caveats in the documentation: https://pandas.pydata.org/pandas-docs/stable/user_guide/indexing.html#returning-a-view-versus-a-copy\n",
      "C:\\Users\\peter\\anaconda3\\lib\\site-packages\\ipykernel_launcher.py:21: SettingWithCopyWarning: \n",
      "A value is trying to be set on a copy of a slice from a DataFrame\n",
      "\n",
      "See the caveats in the documentation: https://pandas.pydata.org/pandas-docs/stable/user_guide/indexing.html#returning-a-view-versus-a-copy\n",
      "C:\\Users\\peter\\anaconda3\\lib\\site-packages\\ipykernel_launcher.py:22: SettingWithCopyWarning: \n",
      "A value is trying to be set on a copy of a slice from a DataFrame\n",
      "\n",
      "See the caveats in the documentation: https://pandas.pydata.org/pandas-docs/stable/user_guide/indexing.html#returning-a-view-versus-a-copy\n",
      "C:\\Users\\peter\\anaconda3\\lib\\site-packages\\ipykernel_launcher.py:21: SettingWithCopyWarning: \n",
      "A value is trying to be set on a copy of a slice from a DataFrame\n",
      "\n",
      "See the caveats in the documentation: https://pandas.pydata.org/pandas-docs/stable/user_guide/indexing.html#returning-a-view-versus-a-copy\n",
      "C:\\Users\\peter\\anaconda3\\lib\\site-packages\\ipykernel_launcher.py:22: SettingWithCopyWarning: \n",
      "A value is trying to be set on a copy of a slice from a DataFrame\n",
      "\n",
      "See the caveats in the documentation: https://pandas.pydata.org/pandas-docs/stable/user_guide/indexing.html#returning-a-view-versus-a-copy\n"
     ]
    }
   ],
   "source": [
    "init_strats_dict = dict()\n",
    "init_p1_dict = dict()\n",
    "init_p2_dict = dict()\n",
    "payoffs_dict = dict()\n",
    "role_dict = dict()\n",
    "id_dict = dict()\n",
    "actual_plays_dict = dict()\n",
    "\n",
    "for gid in range(1,len(all_games)+1):\n",
    "    strats = all_choices[[\"strats\", \"playerid\"]][(all_choices[\"round\"] == 1) & (all_choices[\"gameid\"] == gid)].copy()\n",
    "    roles = all_players[[\"id\", \"role\"]].copy()\n",
    "    roles[\"playerid\"] = roles[\"id\"]\n",
    "    pasts = all_pasts[[\"currentsp1\", \"currentsp2\", \"gameid\"]][(all_pasts[\"round\"] == 1) & (all_pasts[\"gameid\"] == gid)].copy()\n",
    "\n",
    "    init_p1_dict = all_pasts[\"currentsp1\"][(all_pasts[\"round\"] == 1) & (all_pasts[\"gameid\"] == gid)].copy()\n",
    "    init_p2_dict = all_pasts[\"currentsp2\"][(all_pasts[\"round\"] == 1) & (all_pasts[\"gameid\"] == gid)].copy()\n",
    "\n",
    "    data_mat = strats.set_index(\"playerid\").join(roles.set_index(\"id\"), how='outer').copy()\n",
    "\n",
    "    # Replace NaN with role average \n",
    "    data_mat[\"strats\"][(data_mat[\"role\"] == 0) & pd.isnull(data_mat[\"strats\"])] = [np.repeat(np.array(init_p1_dict), sum((data_mat[\"role\"] == 0) & pd.isnull(data_mat[\"strats\"])))]\n",
    "    data_mat[\"strats\"][(data_mat[\"role\"] == 1) & pd.isnull(data_mat[\"strats\"])] = [np.repeat(np.array(init_p2_dict), sum((data_mat[\"role\"] == 1) & pd.isnull(data_mat[\"strats\"])))]\n",
    "    \n",
    "    plays_vec = [np.array(all_pasts[\"currentsp1\"][all_pasts[\"gameid\"] == gid]), np.array(all_pasts[\"currentsp2\"][all_pasts[\"gameid\"] == gid])]\n",
    "    plays_vec[0] = np.array([np.array(v) for v in plays_vec[0]])\n",
    "    plays_vec[1] = np.array([np.array(v) for v in plays_vec[1]])\n",
    "\n",
    "    #init_strats_dict[gid] = np.array(data_mat[\"strats\"])\n",
    "    payoffs_dict[gid] = all_games[\"payoffs\"][all_games[\"id\"]==gid][gid-1]\n",
    "    role_dict[gid] = np.array(data_mat[\"role\"].copy())\n",
    "    id_dict[gid] = np.array(data_mat[\"playerid\"].copy())\n",
    "    actual_plays_dict[gid] = plays_vec\n"
   ]
  },
  {
   "cell_type": "code",
   "execution_count": 7,
   "metadata": {},
   "outputs": [],
   "source": [
    "save_dict = {\"init_strats_dict\": init_strats_dict, \"init_p1_dict\":init_p1_dict, \n",
    "\"init_p2_dict\": init_p2_dict, \"payoffs_dict\":payoffs_dict, \n",
    "\"role_dict\":role_dict, \"id_dict\":id_dict, \"actual_plays_dict\":actual_plays_dict}\n",
    "\n",
    "## Save dictionary \n",
    "\n",
    "with open(f\"data/data_dicts_{exp}{ses}.pkl\", 'wb') as output:\n",
    "    pickle.dump(save_dict, output, pickle.HIGHEST_PROTOCOL)"
   ]
  }
 ],
 "metadata": {
  "kernelspec": {
   "display_name": "Python 3",
   "language": "python",
   "name": "python3"
  },
  "language_info": {
   "codemirror_mode": {
    "name": "ipython",
    "version": 3
   },
   "file_extension": ".py",
   "mimetype": "text/x-python",
   "name": "python",
   "nbconvert_exporter": "python",
   "pygments_lexer": "ipython3",
   "version": "3.7.6"
  }
 },
 "nbformat": 4,
 "nbformat_minor": 4
}
